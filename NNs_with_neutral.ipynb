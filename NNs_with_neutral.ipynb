{
 "cells": [
  {
   "cell_type": "code",
   "execution_count": 5,
   "metadata": {},
   "outputs": [],
   "source": [
    "from nltk import word_tokenize"
   ]
  },
  {
   "cell_type": "code",
   "execution_count": 2,
   "metadata": {
    "scrolled": true
   },
   "outputs": [],
   "source": [
    "# -*- coding: utf-8 -*-\n",
    "import os\n",
    "from os.path import basename\n",
    "\n",
    "RAW = \"../datasets/tweets_plus_notr\"\n",
    "\n",
    "sentiments = [os.path.join(RAW, file) for file in os.listdir(RAW)]\n",
    "\n",
    "topic_dict = {}\n",
    "for path in sentiments:\n",
    "    if '.ipynb_checkpoints' in path: continue\n",
    "    class_name = basename(path)\n",
    "    text_list = []\n",
    "    for file in os.listdir(path):\n",
    "        if file.endswith('.txt'):\n",
    "            with open(os.path.join(path, file),'r', encoding='utf-8') as f:\n",
    "                try:\n",
    "                    text = f.read()\n",
    "                    text_list.append(text)\n",
    "                except:\n",
    "                    print(file)\n",
    "                \n",
    "    topic_dict[class_name] = text_list"
   ]
  },
  {
   "cell_type": "code",
   "execution_count": 3,
   "metadata": {},
   "outputs": [
    {
     "data": {
      "text/plain": [
       "dict_keys(['notr', 'olumlu', 'olumsuz'])"
      ]
     },
     "execution_count": 3,
     "metadata": {},
     "output_type": "execute_result"
    }
   ],
   "source": [
    "topic_dict.keys()"
   ]
  },
  {
   "cell_type": "code",
   "execution_count": 4,
   "metadata": {},
   "outputs": [],
   "source": [
    "import pandas as pd\n",
    "from sklearn.model_selection import train_test_split\n",
    "\n",
    "X_name = 'text'\n",
    "y_name = 'category'\n",
    "\n",
    "raw_datas = [{'text':[text for text in topic_dict[key]]} for key in topic_dict.keys()]\n",
    "dataframes_X = [pd.DataFrame(raw_data, columns = [X_name]) for raw_data in raw_datas]\n",
    "train_data_list, test_data_list = [],[] \n",
    "for idx,key in enumerate(topic_dict.keys()):\n",
    "    dataframes_X[idx][y_name] = [key]*len(dataframes_X[idx])  \n",
    "    train_dum, test_dum = train_test_split(dataframes_X[idx], test_size=0.2)\n",
    "    train_data_list.append(train_dum)\n",
    "    test_data_list.append(test_dum)\n"
   ]
  },
  {
   "cell_type": "code",
   "execution_count": 5,
   "metadata": {},
   "outputs": [],
   "source": [
    "train_dataset = pd.concat(train_data_list, ignore_index=True).fillna(0)\n",
    "test_dataset = pd.concat(test_data_list, ignore_index=True).fillna(0)\n",
    "from sklearn.utils import shuffle\n",
    "train_dataset = shuffle(train_dataset)\n",
    "test_dataset = shuffle(test_dataset)"
   ]
  },
  {
   "cell_type": "code",
   "execution_count": 6,
   "metadata": {},
   "outputs": [],
   "source": [
    "train_dataset = train_dataset.reset_index(drop=True)\n",
    "test_dataset = test_dataset.reset_index(drop=True)"
   ]
  },
  {
   "cell_type": "code",
   "execution_count": 7,
   "metadata": {},
   "outputs": [
    {
     "data": {
      "text/html": [
       "<div>\n",
       "<style scoped>\n",
       "    .dataframe tbody tr th:only-of-type {\n",
       "        vertical-align: middle;\n",
       "    }\n",
       "\n",
       "    .dataframe tbody tr th {\n",
       "        vertical-align: top;\n",
       "    }\n",
       "\n",
       "    .dataframe thead th {\n",
       "        text-align: right;\n",
       "    }\n",
       "</style>\n",
       "<table border=\"1\" class=\"dataframe\">\n",
       "  <thead>\n",
       "    <tr style=\"text-align: right;\">\n",
       "      <th></th>\n",
       "      <th>text</th>\n",
       "      <th>category</th>\n",
       "    </tr>\n",
       "  </thead>\n",
       "  <tbody>\n",
       "    <tr>\n",
       "      <th>0</th>\n",
       "      <td>Turkcell Cüzdan hakkında Garanti'nin hiç bilgi...</td>\n",
       "      <td>olumsuz</td>\n",
       "    </tr>\n",
       "    <tr>\n",
       "      <th>1</th>\n",
       "      <td>Turkcell Enerji Şirketi Kuruyor... #Forex #IKO...</td>\n",
       "      <td>notr</td>\n",
       "    </tr>\n",
       "    <tr>\n",
       "      <th>2</th>\n",
       "      <td>Hayat Turkcell reklami kadar saçma .</td>\n",
       "      <td>olumsuz</td>\n",
       "    </tr>\n",
       "    <tr>\n",
       "      <th>3</th>\n",
       "      <td>Turkcell Samsung Galaxy S4 kampanyası</td>\n",
       "      <td>notr</td>\n",
       "    </tr>\n",
       "    <tr>\n",
       "      <th>4</th>\n",
       "      <td>yIldIz tilbe'li @turkcell reklamI yayInlansIn;...</td>\n",
       "      <td>notr</td>\n",
       "    </tr>\n",
       "  </tbody>\n",
       "</table>\n",
       "</div>"
      ],
      "text/plain": [
       "                                                text category\n",
       "0  Turkcell Cüzdan hakkında Garanti'nin hiç bilgi...  olumsuz\n",
       "1  Turkcell Enerji Şirketi Kuruyor... #Forex #IKO...     notr\n",
       "2               Hayat Turkcell reklami kadar saçma .  olumsuz\n",
       "3              Turkcell Samsung Galaxy S4 kampanyası     notr\n",
       "4  yIldIz tilbe'li @turkcell reklamI yayInlansIn;...     notr"
      ]
     },
     "execution_count": 7,
     "metadata": {},
     "output_type": "execute_result"
    }
   ],
   "source": [
    "test_dataset.head()"
   ]
  },
  {
   "cell_type": "code",
   "execution_count": 8,
   "metadata": {},
   "outputs": [
    {
     "data": {
      "text/html": [
       "<div>\n",
       "<style scoped>\n",
       "    .dataframe tbody tr th:only-of-type {\n",
       "        vertical-align: middle;\n",
       "    }\n",
       "\n",
       "    .dataframe tbody tr th {\n",
       "        vertical-align: top;\n",
       "    }\n",
       "\n",
       "    .dataframe thead th {\n",
       "        text-align: right;\n",
       "    }\n",
       "</style>\n",
       "<table border=\"1\" class=\"dataframe\">\n",
       "  <thead>\n",
       "    <tr style=\"text-align: right;\">\n",
       "      <th></th>\n",
       "      <th>text</th>\n",
       "      <th>category</th>\n",
       "    </tr>\n",
       "  </thead>\n",
       "  <tbody>\n",
       "    <tr>\n",
       "      <th>0</th>\n",
       "      <td>canIm arkadaSIm bipten nasIl Ucretsiz mesajlaS...</td>\n",
       "      <td>olumlu</td>\n",
       "    </tr>\n",
       "    <tr>\n",
       "      <th>1</th>\n",
       "      <td>@simgefstk @TurkcellHizmet iyi söyledin bende ...</td>\n",
       "      <td>notr</td>\n",
       "    </tr>\n",
       "    <tr>\n",
       "      <th>2</th>\n",
       "      <td>Turkcell reklamlarindaki o kucuk kizi alip bog...</td>\n",
       "      <td>olumsuz</td>\n",
       "    </tr>\n",
       "    <tr>\n",
       "      <th>3</th>\n",
       "      <td>9. İTÜ Robot Olimpiyatları | Geleceği Yazanlar...</td>\n",
       "      <td>notr</td>\n",
       "    </tr>\n",
       "    <tr>\n",
       "      <th>4</th>\n",
       "      <td>turkcell salla kazan kampanyasi tekrar baslami...</td>\n",
       "      <td>olumlu</td>\n",
       "    </tr>\n",
       "  </tbody>\n",
       "</table>\n",
       "</div>"
      ],
      "text/plain": [
       "                                                text category\n",
       "0  canIm arkadaSIm bipten nasIl Ucretsiz mesajlaS...   olumlu\n",
       "1  @simgefstk @TurkcellHizmet iyi söyledin bende ...     notr\n",
       "2  Turkcell reklamlarindaki o kucuk kizi alip bog...  olumsuz\n",
       "3  9. İTÜ Robot Olimpiyatları | Geleceği Yazanlar...     notr\n",
       "4  turkcell salla kazan kampanyasi tekrar baslami...   olumlu"
      ]
     },
     "execution_count": 8,
     "metadata": {},
     "output_type": "execute_result"
    }
   ],
   "source": [
    "train_dataset.head()"
   ]
  },
  {
   "cell_type": "code",
   "execution_count": 9,
   "metadata": {
    "scrolled": true
   },
   "outputs": [
    {
     "data": {
      "text/plain": [
       "196303"
      ]
     },
     "execution_count": 9,
     "metadata": {},
     "output_type": "execute_result"
    }
   ],
   "source": [
    "sum([len(word_tokenize(text)) for text in train_dataset.text]) # /len(train_dataset.text)"
   ]
  },
  {
   "cell_type": "code",
   "execution_count": 1,
   "metadata": {},
   "outputs": [
    {
     "name": "stdout",
     "output_type": "stream",
     "text": [
      "2021-02-12 16:04:55,359 - zemberek.morphology.turkish_morphology - INFO\n",
      "Msg: TurkishMorphology instance initialized in 26.676000118255615\n",
      "\n"
     ]
    }
   ],
   "source": [
    "from zemberek import (\n",
    "    TurkishSpellChecker,\n",
    "    TurkishSentenceNormalizer,\n",
    "    TurkishSentenceExtractor,\n",
    "    TurkishMorphology,\n",
    "    TurkishTokenizer\n",
    ")\n",
    "morphology = TurkishMorphology.create_with_defaults()\n",
    "normalizer = TurkishSentenceNormalizer(morphology)\n",
    "sc = TurkishSpellChecker(morphology)"
   ]
  },
  {
   "cell_type": "code",
   "execution_count": 3,
   "metadata": {},
   "outputs": [
    {
     "name": "stdout",
     "output_type": "stream",
     "text": [
      "biliyorum \n",
      "\n"
     ]
    }
   ],
   "source": [
    "examples = [\"bılıyorum\"]\n",
    "# SENTENCE NORMALIZATION\n",
    "\n",
    "for example in examples:\n",
    "    print(normalizer.normalize(example), \"\\n\")"
   ]
  },
  {
   "cell_type": "code",
   "execution_count": 12,
   "metadata": {},
   "outputs": [],
   "source": [
    "X_train = train_dataset.text\n",
    "X_test = test_dataset.text\n",
    "\n",
    "y_train = train_dataset.category\n",
    "y_test = test_dataset.category\n",
    "\n",
    "data = train_dataset.append(test_dataset, ignore_index=True)"
   ]
  },
  {
   "cell_type": "code",
   "execution_count": 4,
   "metadata": {},
   "outputs": [
    {
     "name": "stdout",
     "output_type": "stream",
     "text": [
      "2021-02-12 16:14:33,128 - root - WARNING\n",
      "Msg: APPENDING RESULT: <(muvaffakiyet_Noun)(-)(muvaffakiyet:noun_S + a3sg_S + pnon_S + nom_ST + li:with_S + adjectiveRoot_ST + leş:become_S + verbRoot_S + tir:vCausTır_S + verbRoot_S + eme:vUnable_S + dik:vPastPart_S + noun_S + ler:a3pl_S + imiz:p1pl_S + den:abl_ST)>\n",
      "\n",
      "[('muvaffakiyetlileştiremediklerimizden', ['muvaffakiyet'])]\n"
     ]
    }
   ],
   "source": [
    "import zeyrek\n",
    "lemmatizer = zeyrek.MorphAnalyzer()\n",
    "print(lemmatizer.lemmatize('muvaffakiyetlileştiremediklerimizden'))"
   ]
  },
  {
   "cell_type": "code",
   "execution_count": 13,
   "metadata": {},
   "outputs": [],
   "source": [
    "from nltk.corpus import stopwords\n",
    "import string\n",
    "from snowballstemmer import TurkishStemmer\n",
    "import zeyrek\n",
    "from tqdm import tqdm\n",
    "lemmatizer = zeyrek.MorphAnalyzer()\n",
    "ts=TurkishStemmer()\n",
    "\n",
    "def clean_text(data, stem=False, lemmatize=True, normalize=True):  \n",
    "    # tekenization using nltk\n",
    "    data = word_tokenize(data)\n",
    "    \n",
    "    remov = set(stopwords.words(\"turkish\"))\n",
    "   \n",
    "    result_words = []\n",
    "    for w in data:\n",
    "        temp = w.translate(str.maketrans(string.punctuation, ' '*len(string.punctuation))).split()\n",
    "        result_words.extend(t for t in temp)\n",
    "        \n",
    "    words = [word.lower() for word in result_words]\n",
    "    words = [w.strip() for w in words if '\\n' or '' != w]\n",
    "    words = [w for w in words if w not in remov]\n",
    "    words = [x for x in words if not any(c.isdigit() for c in x)]\n",
    "    words = [word for word in words if len(word) > 2]\n",
    "    words_dum = []\n",
    "    if normalize:\n",
    "        for w in words:\n",
    "            try:\n",
    "                words_dum.append(normalizer.normalize(w))\n",
    "            except:\n",
    "                words_dum.append(w)\n",
    "        words = words_dum\n",
    "        \n",
    "    words_dum = []\n",
    "    if lemmatize:\n",
    "        for w in words:\n",
    "            try:\n",
    "                words_dum.append(lemmatizer.lemmatize(w))\n",
    "            except:\n",
    "                words_dum.append(w)\n",
    "    if stem:\n",
    "        words = [ts.stemWord(w) for w in words]\n",
    "    return words"
   ]
  },
  {
   "cell_type": "code",
   "execution_count": 15,
   "metadata": {},
   "outputs": [],
   "source": [
    "embed_num_dims = 300\n",
    "\n",
    "token_vocab_size = 10000\n",
    "\n",
    "max_seq_len = 50\n",
    "\n",
    "class_names = [key for key in topic_dict.keys()]\n",
    "\n",
    "num_classes = len(class_names)"
   ]
  },
  {
   "cell_type": "code",
   "execution_count": 16,
   "metadata": {},
   "outputs": [],
   "source": [
    "import tensorflow.keras as keras\n",
    "from tensorflow.keras.preprocessing.text import Tokenizer\n",
    "from tensorflow.keras.preprocessing.sequence import pad_sequences\n",
    "from tensorflow.keras.utils import to_categorical"
   ]
  },
  {
   "cell_type": "code",
   "execution_count": 17,
   "metadata": {},
   "outputs": [
    {
     "name": "stdout",
     "output_type": "stream",
     "text": [
      "Number of unique words: 31363\n"
     ]
    }
   ],
   "source": [
    "tokenizer = Tokenizer(num_words=token_vocab_size)\n",
    "tokenizer.fit_on_texts(texts)\n",
    "\n",
    "sequence_train = tokenizer.texts_to_sequences(texts_train)\n",
    "sequence_test = tokenizer.texts_to_sequences(texts_test)\n",
    "\n",
    "index_of_words = tokenizer.word_index\n",
    "\n",
    "vocab_size = len(index_of_words) + 1\n",
    "\n",
    "print('Number of unique words: {}'.format(len(index_of_words)))"
   ]
  },
  {
   "cell_type": "code",
   "execution_count": 18,
   "metadata": {},
   "outputs": [
    {
     "data": {
      "text/plain": [
       "array([[   0,    0,    0, ...,  982,    1,  256],\n",
       "       [   0,    0,    0, ..., 2402,  918,  451],\n",
       "       [   0,    0,    0, ..., 1227, 1166,  497],\n",
       "       ...,\n",
       "       [   0,    0,    0, ...,    4,  362, 1570],\n",
       "       [   0,    0,    0, ...,   25,  190,    1],\n",
       "       [   0,    0,    0, ...,  114, 4307, 1715]])"
      ]
     },
     "execution_count": 18,
     "metadata": {},
     "output_type": "execute_result"
    }
   ],
   "source": [
    "X_train_pad = pad_sequences(sequence_train, maxlen = max_seq_len, padding='pre', truncating='pre')\n",
    "X_test_pad = pad_sequences(sequence_test, maxlen = max_seq_len, padding='pre', truncating='pre')\n",
    "\n",
    "X_train_pad"
   ]
  },
  {
   "cell_type": "code",
   "execution_count": 19,
   "metadata": {},
   "outputs": [],
   "source": [
    "encoding = {key:val for val,key in enumerate(topic_dict.keys()) }\n",
    "y_train = [encoding[x] for x in train_dataset.category]\n",
    "y_test = [encoding[x] for x in test_dataset.category]"
   ]
  },
  {
   "cell_type": "code",
   "execution_count": 20,
   "metadata": {
    "scrolled": true
   },
   "outputs": [
    {
     "data": {
      "text/plain": [
       "array([[0., 1., 0.],\n",
       "       [1., 0., 0.],\n",
       "       [0., 0., 1.],\n",
       "       ...,\n",
       "       [1., 0., 0.],\n",
       "       [0., 0., 1.],\n",
       "       [0., 0., 1.]], dtype=float32)"
      ]
     },
     "execution_count": 20,
     "metadata": {},
     "output_type": "execute_result"
    }
   ],
   "source": [
    "y_train = to_categorical(y_train)\n",
    "y_test = to_categorical(y_test)\n",
    "\n",
    "y_train"
   ]
  },
  {
   "cell_type": "code",
   "execution_count": 22,
   "metadata": {},
   "outputs": [
    {
     "name": "stdout",
     "output_type": "stream",
     "text": [
      "2021-02-12 00:38:21,089 - torchtext.vocab - INFO\n",
      "Msg: Loading vectors from .vector_cache\\wiki.tr.vec.pt\n",
      "\n"
     ]
    }
   ],
   "source": [
    "from torchtext.vocab import FastText\n",
    "\n",
    "my_vector = FastText('tr')"
   ]
  },
  {
   "cell_type": "code",
   "execution_count": 23,
   "metadata": {},
   "outputs": [
    {
     "name": "stdout",
     "output_type": "stream",
     "text": [
      "5137\n"
     ]
    }
   ],
   "source": [
    "print(index_of_words['siyaset'])"
   ]
  },
  {
   "cell_type": "code",
   "execution_count": 24,
   "metadata": {},
   "outputs": [],
   "source": [
    "import numpy as np\n",
    "def create_embedding_matrix(w2v_embeds, word_index, embedding_dim):\n",
    "    vocab_size = len(word_index) + 1  # Adding again 1 because of reserved 0 index\n",
    "    embedding_matrix = np.zeros((vocab_size, embedding_dim))\n",
    "    for word in word_index:\n",
    "        idx = word_index[word]\n",
    "        try:\n",
    "            embed = w2v_embeds[word]\n",
    "            embedding_matrix[idx] = np.array(\n",
    "                embed, dtype=np.float32)[:embedding_dim]\n",
    "        except:\n",
    "            print(word)\n",
    "    return embedding_matrix"
   ]
  },
  {
   "cell_type": "code",
   "execution_count": 25,
   "metadata": {
    "scrolled": true
   },
   "outputs": [
    {
     "data": {
      "text/plain": [
       "(31364, 300)"
      ]
     },
     "execution_count": 25,
     "metadata": {},
     "output_type": "execute_result"
    }
   ],
   "source": [
    "embedd_matrix = create_embedding_matrix(my_vector, index_of_words, embed_num_dims)\n",
    "embedd_matrix.shape"
   ]
  },
  {
   "cell_type": "code",
   "execution_count": 26,
   "metadata": {},
   "outputs": [
    {
     "data": {
      "text/plain": [
       "31363"
      ]
     },
     "execution_count": 26,
     "metadata": {},
     "output_type": "execute_result"
    }
   ],
   "source": [
    "len(index_of_words)"
   ]
  },
  {
   "cell_type": "code",
   "execution_count": null,
   "metadata": {},
   "outputs": [],
   "source": [
    "new_words = 0\n",
    "\n",
    "for word in index_of_words:\n",
    "    entry = embedd_matrix[index_of_words[word]]\n",
    "    if all(v == 0 for v in entry):\n",
    "        new_words = new_words + 1\n",
    "\n",
    "print('Words found in fasttext vocab: ' + str(len(index_of_words) - new_words))\n",
    "print('New words: ' + str(new_words))"
   ]
  },
  {
   "cell_type": "code",
   "execution_count": 28,
   "metadata": {},
   "outputs": [],
   "source": [
    "import pandas as pd\n",
    "import numpy as np\n",
    "\n",
    "# plots and metrics\n",
    "import matplotlib.pyplot as plt\n",
    "from sklearn.metrics import accuracy_score, f1_score, confusion_matrix, average_precision_score, recall_score, precision_score\n",
    "\n",
    "# layers\n",
    "from tensorflow.keras.models import Sequential\n",
    "from tensorflow.keras.layers import Embedding, Conv1D, GlobalMaxPooling1D, Dense, MaxPooling1D\n",
    "from tensorflow.keras.layers import Dense, Flatten, LSTM, Dropout, Activation, Embedding, Bidirectional,SimpleRNN"
   ]
  },
  {
   "cell_type": "code",
   "execution_count": 29,
   "metadata": {},
   "outputs": [],
   "source": [
    "embedd_layer = Embedding(vocab_size,\n",
    "                         embed_num_dims,\n",
    "                         input_length = max_seq_len,\n",
    "                         weights = [embedd_matrix],\n",
    "                         trainable=False)"
   ]
  },
  {
   "cell_type": "code",
   "execution_count": 31,
   "metadata": {},
   "outputs": [],
   "source": [
    "# # Convolution\n",
    "# kernel_size = 5\n",
    "# filters = 256\n",
    "\n",
    "# model = Sequential()\n",
    "# model.add(embedd_layer)\n",
    "# model.add(Dropout(0.5))\n",
    "# model.add(Conv1D(filters, kernel_size, activation='relu'))\n",
    "# model.add(GlobalMaxPooling1D())\n",
    "# model.add(Dense(filters, activation='relu'))\n",
    "# model.add(Dropout(0.5))\n",
    "# model.add(Dense(num_classes, activation='softmax'))"
   ]
  },
  {
   "cell_type": "code",
   "execution_count": 32,
   "metadata": {},
   "outputs": [],
   "source": [
    "## BiLSTM\n",
    "\n",
    "# model = Sequential()\n",
    "\n",
    "# model.add(embedd_layer)\n",
    "# model.add(Dropout(0.4))\n",
    "# model.add(Bidirectional(LSTM(embed_num_dims)))\n",
    "# model.add(Dropout(0.5))\n",
    "# model.add(Dense(num_classes, activation='softmax'))"
   ]
  },
  {
   "cell_type": "code",
   "execution_count": 33,
   "metadata": {},
   "outputs": [],
   "source": [
    "## LSTM\n",
    "model = Sequential()\n",
    "\n",
    "model.add(embedd_layer)\n",
    "model.add(Dropout(0.4))\n",
    "model.add(LSTM(embed_num_dims))\n",
    "model.add(Dropout(0.4))\n",
    "model.add(Dense(num_classes, activation='softmax'))"
   ]
  },
  {
   "cell_type": "code",
   "execution_count": 34,
   "metadata": {},
   "outputs": [],
   "source": [
    "## SimpleRNN\n",
    "# model = Sequential()\n",
    "\n",
    "# model.add(embedd_layer)\n",
    "# model.add(Dropout(0.4))\n",
    "# model.add(SimpleRNN(embed_num_dims))\n",
    "# model.add(Dropout(0.4))\n",
    "# model.add(Dense(num_classes, activation='softmax'))"
   ]
  },
  {
   "cell_type": "code",
   "execution_count": null,
   "metadata": {},
   "outputs": [],
   "source": [
    "opt =  keras.optimizers.Adam(lr=0.00005, decay=1e-6)\n",
    "model.compile(loss = 'categorical_crossentropy', optimizer = opt, metrics = ['accuracy'])\n",
    "model.summary()"
   ]
  },
  {
   "cell_type": "code",
   "execution_count": null,
   "metadata": {
    "scrolled": true
   },
   "outputs": [],
   "source": [
    "batch_size = 128\n",
    "epochs = 50\n",
    "\n",
    "hist = model.fit(X_train_pad, y_train,\n",
    "                 batch_size=batch_size,\n",
    "                 epochs=epochs,\n",
    "                 validation_data=(X_test_pad,y_test),verbose=1)"
   ]
  },
  {
   "cell_type": "code",
   "execution_count": null,
   "metadata": {},
   "outputs": [],
   "source": [
    "# Accuracy plot\n",
    "plt.plot(hist.history['accuracy'])\n",
    "plt.plot(hist.history['val_accuracy'])\n",
    "plt.title('model accuracy')\n",
    "plt.ylabel('accuracy')\n",
    "plt.xlabel('epoch')\n",
    "plt.legend(['train', 'validation'], loc='upper left')\n",
    "# plt.savefig('figures_notr/LSTM_acc.png')\n",
    "plt.show()\n",
    "\n",
    "# Loss plot\n",
    "plt.plot(hist.history['loss'])\n",
    "plt.plot(hist.history['val_loss'])\n",
    "plt.title('model loss')\n",
    "plt.ylabel('loss')\n",
    "plt.xlabel('epoch')\n",
    "plt.legend(['train', 'validation'], loc='upper left')\n",
    "# plt.savefig('figures_notr/LSTM_loss.png')\n",
    "plt.show()"
   ]
  },
  {
   "cell_type": "code",
   "execution_count": 356,
   "metadata": {},
   "outputs": [],
   "source": [
    "# from keras.models import load_model\n",
    "# predictor = load_model('models/cnn_w2v.h5')"
   ]
  },
  {
   "cell_type": "code",
   "execution_count": 178,
   "metadata": {
    "scrolled": true
   },
   "outputs": [],
   "source": [
    "predictions = model.predict(X_test_pad)\n",
    "predictions = np.argmax(predictions, axis=1)"
   ]
  },
  {
   "cell_type": "code",
   "execution_count": 179,
   "metadata": {},
   "outputs": [],
   "source": [
    "predictions = [class_names[pred] for pred in predictions]"
   ]
  },
  {
   "cell_type": "code",
   "execution_count": null,
   "metadata": {},
   "outputs": [],
   "source": [
    "print(\"Accuracy: {:.2f}%\".format(accuracy_score(test_dataset.category, predictions) * 100))\n",
    "print(\"F1 Score: {:.2f}\".format(f1_score(test_dataset.category, predictions, average='weighted') * 100))\n",
    "print(\"Precision: {:.2f}%\".format(precision_score(test_dataset.category, predictions, average ='weighted') * 100))\n",
    "print(\"Recall: {:.2f}%\".format(recall_score(test_dataset.category, predictions, average ='weighted') * 100))"
   ]
  },
  {
   "cell_type": "code",
   "execution_count": 181,
   "metadata": {},
   "outputs": [
    {
     "data": {
      "text/plain": [
       "'ben trabzonsporu tutuyorum diye öğrencilerimden bazıları da trabzonsporu tutmaya başladı turkcell gibiyim onları da hayata bağlıyorum :):)'"
      ]
     },
     "execution_count": 181,
     "metadata": {},
     "output_type": "execute_result"
    }
   ],
   "source": [
    "test_dataset.text[0]"
   ]
  },
  {
   "cell_type": "code",
   "execution_count": 182,
   "metadata": {},
   "outputs": [
    {
     "name": "stdout",
     "output_type": "stream",
     "text": [
      "2021-02-09 16:37:19,216 - root - WARNING\n",
      "Msg: APPENDING RESULT: <(bıkmak_Verb)(-)(bık:verbRoot_S + tı:vPast_S + m:vA1sg_ST)>\n",
      "\n",
      "['notr', 'olumlu', 'olumsuz']\n",
      "[[0.2507852 0.2137253 0.5354895]]\n",
      "2\n",
      "olumsuz\n"
     ]
    }
   ],
   "source": [
    "text = \"\"\"bıktım\"\"\"\n",
    "text = clean_text(text)\n",
    "txt = [text]\n",
    "seq = tokenizer.texts_to_sequences(txt)\n",
    "padded = pad_sequences(seq, maxlen=max_seq_len)\n",
    "pred = model.predict(padded)\n",
    "labels = [key for key in topic_dict.keys()] \n",
    "print(labels)\n",
    "print(pred)\n",
    "print(np.argmax(pred))\n",
    "print(labels[np.argmax(pred)])"
   ]
  },
  {
   "cell_type": "code",
   "execution_count": 183,
   "metadata": {},
   "outputs": [],
   "source": [
    "def plot_confusion_matrix(y_true, y_pred, classes,\n",
    "                          title,\n",
    "                          cmap=plt.cm.Blues):\n",
    "\n",
    "    cm = confusion_matrix(y_true, y_pred)\n",
    "\n",
    "    fig, ax = plt.subplots()\n",
    "\n",
    "    fig.set_size_inches(12.5, 7.5)\n",
    "    im = ax.imshow(cm, interpolation='nearest', cmap=cmap)\n",
    "    ax.figure.colorbar(im, ax=ax)\n",
    "    ax.grid(False)\n",
    "    \n",
    "    ax.set(xticks=np.arange(cm.shape[1]),\n",
    "           yticks=np.arange(cm.shape[0]),\n",
    "           # ... and label them with the respective list entries\n",
    "           xticklabels=classes, yticklabels=classes,\n",
    "           title=title,\n",
    "           ylabel='True label',\n",
    "           xlabel='Predicted label')\n",
    "\n",
    "    plt.setp(ax.get_xticklabels(), rotation=45, ha=\"right\",\n",
    "             rotation_mode=\"anchor\")\n",
    "\n",
    "    fmt = '.2f' if normalize else 'd'\n",
    "    thresh = cm.max() / 2.\n",
    "    for i in range(cm.shape[0]):\n",
    "        for j in range(cm.shape[1]):\n",
    "            ax.text(j, i, format(cm[i, j], fmt),\n",
    "                    ha=\"center\", va=\"center\",\n",
    "                    color=\"white\" if cm[i, j] > thresh else \"black\")\n",
    "    fig.tight_layout()\n",
    "    return ax"
   ]
  },
  {
   "cell_type": "code",
   "execution_count": 185,
   "metadata": {},
   "outputs": [
    {
     "data": {
      "image/png": "[encoded data removed]",
      "text/plain": [
       "<Figure size 900x540 with 2 Axes>"
      ]
     },
     "metadata": {
      "needs_background": "light"
     },
     "output_type": "display_data"
    }
   ],
   "source": [
    "plot_confusion_matrix(test_dataset.category, predictions, classes=class_names, title='Confusion matrix')\n",
    "# plt.savefig('figures_notr/LSTM_confusion.png')\n",
    "plt.show()"
   ]
  },
  {
   "cell_type": "code",
   "execution_count": 186,
   "metadata": {},
   "outputs": [],
   "source": [
    "# model.save('models_notr/LSTM_notr.h5')"
   ]
  }
 ],
 "metadata": {
  "kernelspec": {
   "display_name": "Python 3",
   "language": "python",
   "name": "python3"
  },
  "language_info": {
   "codemirror_mode": {
    "name": "ipython",
    "version": 3
   },
   "file_extension": ".py",
   "mimetype": "text/x-python",
   "name": "python",
   "nbconvert_exporter": "python",
   "pygments_lexer": "ipython3",
   "version": "3.8.3"
  }
 },
 "nbformat": 4,
 "nbformat_minor": 4
}
