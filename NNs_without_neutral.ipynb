{
 "cells": [
  {
   "cell_type": "code",
   "execution_count": 1,
   "metadata": {},
   "outputs": [],
   "source": [
    "from nltk import word_tokenize"
   ]
  },
  {
   "cell_type": "code",
   "execution_count": 2,
   "metadata": {
    "scrolled": true
   },
   "outputs": [],
   "source": [
    "# -*- coding: utf-8 -*-\n",
    "import os\n",
    "from os.path import basename\n",
    "\n",
    "RAW = \"../datasets/tweets_rsc\"\n",
    "\n",
    "sentiments = [os.path.join(RAW, file) for file in os.listdir(RAW)]\n",
    "\n",
    "topic_dict = {}\n",
    "for path in sentiments:\n",
    "    if '.ipynb_checkpoints' in path: continue\n",
    "    class_name = basename(path)\n",
    "    text_list = []\n",
    "    for file in os.listdir(path):\n",
    "        if file.endswith('.txt'):\n",
    "            with open(os.path.join(path, file),'r', encoding='utf-8') as f:\n",
    "                try:\n",
    "                    text = f.read()\n",
    "                    text_list.append(text)\n",
    "                except:\n",
    "                    print(file)\n",
    "                \n",
    "    topic_dict[class_name] = text_list"
   ]
  },
  {
   "cell_type": "code",
   "execution_count": 3,
   "metadata": {},
   "outputs": [
    {
     "data": {
      "text/plain": [
       "dict_keys(['olumlu', 'olumsuz'])"
      ]
     },
     "execution_count": 3,
     "metadata": {},
     "output_type": "execute_result"
    }
   ],
   "source": [
    "topic_dict.keys()"
   ]
  },
  {
   "cell_type": "code",
   "execution_count": 4,
   "metadata": {},
   "outputs": [],
   "source": [
    "import pandas as pd\n",
    "from sklearn.model_selection import train_test_split\n",
    "\n",
    "X_name = 'text'\n",
    "y_name = 'category'\n",
    "\n",
    "raw_datas = [{'text':[text for text in topic_dict[key]]} for key in topic_dict.keys()]\n",
    "dataframes_X = [pd.DataFrame(raw_data, columns = [X_name]) for raw_data in raw_datas]\n",
    "train_data_list, test_data_list = [],[] \n",
    "for idx,key in enumerate(topic_dict.keys()):\n",
    "    dataframes_X[idx][y_name] = [key]*len(dataframes_X[idx])  \n",
    "    train_dum, test_dum = train_test_split(dataframes_X[idx], test_size=0.2)\n",
    "    train_data_list.append(train_dum)\n",
    "    test_data_list.append(test_dum)\n"
   ]
  },
  {
   "cell_type": "code",
   "execution_count": 5,
   "metadata": {},
   "outputs": [],
   "source": [
    "train_dataset = pd.concat(train_data_list, ignore_index=True).fillna(0)\n",
    "test_dataset = pd.concat(test_data_list, ignore_index=True).fillna(0)\n",
    "from sklearn.utils import shuffle\n",
    "train_dataset = shuffle(train_dataset)\n",
    "train_dataset = train_dataset.reset_index(drop=True)\n",
    "test_dataset = shuffle(test_dataset)\n",
    "test_dataset = test_dataset.reset_index(drop=True)"
   ]
  },
  {
   "cell_type": "code",
   "execution_count": 6,
   "metadata": {},
   "outputs": [
    {
     "data": {
      "text/html": [
       "<div>\n",
       "<style scoped>\n",
       "    .dataframe tbody tr th:only-of-type {\n",
       "        vertical-align: middle;\n",
       "    }\n",
       "\n",
       "    .dataframe tbody tr th {\n",
       "        vertical-align: top;\n",
       "    }\n",
       "\n",
       "    .dataframe thead th {\n",
       "        text-align: right;\n",
       "    }\n",
       "</style>\n",
       "<table border=\"1\" class=\"dataframe\">\n",
       "  <thead>\n",
       "    <tr style=\"text-align: right;\">\n",
       "      <th></th>\n",
       "      <th>text</th>\n",
       "      <th>category</th>\n",
       "    </tr>\n",
       "  </thead>\n",
       "  <tbody>\n",
       "    <tr>\n",
       "      <th>0</th>\n",
       "      <td>arka fonda turkcell ISIk hIzIyla baGlan hayata...</td>\n",
       "      <td>olumsuz</td>\n",
       "    </tr>\n",
       "    <tr>\n",
       "      <th>1</th>\n",
       "      <td>Bu, Turkcell. Bugünde insanların duygularını s...</td>\n",
       "      <td>olumsuz</td>\n",
       "    </tr>\n",
       "    <tr>\n",
       "      <th>2</th>\n",
       "      <td>Turkcell mesaj atmıyor kesin birisi var diyorl...</td>\n",
       "      <td>olumsuz</td>\n",
       "    </tr>\n",
       "    <tr>\n",
       "      <th>3</th>\n",
       "      <td>Turkcell in her sarkiya yeni reklam cekmesine ...</td>\n",
       "      <td>olumsuz</td>\n",
       "    </tr>\n",
       "    <tr>\n",
       "      <th>4</th>\n",
       "      <td>Telefonumu akıllı guvendeye ilgisizliginiz yüz...</td>\n",
       "      <td>olumsuz</td>\n",
       "    </tr>\n",
       "  </tbody>\n",
       "</table>\n",
       "</div>"
      ],
      "text/plain": [
       "                                                text category\n",
       "0  arka fonda turkcell ISIk hIzIyla baGlan hayata...  olumsuz\n",
       "1  Bu, Turkcell. Bugünde insanların duygularını s...  olumsuz\n",
       "2  Turkcell mesaj atmıyor kesin birisi var diyorl...  olumsuz\n",
       "3  Turkcell in her sarkiya yeni reklam cekmesine ...  olumsuz\n",
       "4  Telefonumu akıllı guvendeye ilgisizliginiz yüz...  olumsuz"
      ]
     },
     "execution_count": 6,
     "metadata": {},
     "output_type": "execute_result"
    }
   ],
   "source": [
    "test_dataset.head()"
   ]
  },
  {
   "cell_type": "code",
   "execution_count": 7,
   "metadata": {},
   "outputs": [
    {
     "data": {
      "text/html": [
       "<div>\n",
       "<style scoped>\n",
       "    .dataframe tbody tr th:only-of-type {\n",
       "        vertical-align: middle;\n",
       "    }\n",
       "\n",
       "    .dataframe tbody tr th {\n",
       "        vertical-align: top;\n",
       "    }\n",
       "\n",
       "    .dataframe thead th {\n",
       "        text-align: right;\n",
       "    }\n",
       "</style>\n",
       "<table border=\"1\" class=\"dataframe\">\n",
       "  <thead>\n",
       "    <tr style=\"text-align: right;\">\n",
       "      <th></th>\n",
       "      <th>text</th>\n",
       "      <th>category</th>\n",
       "    </tr>\n",
       "  </thead>\n",
       "  <tbody>\n",
       "    <tr>\n",
       "      <th>0</th>\n",
       "      <td>@KonyasporYorum onlara verilecegini zannetmiyo...</td>\n",
       "      <td>olumsuz</td>\n",
       "    </tr>\n",
       "    <tr>\n",
       "      <th>1</th>\n",
       "      <td>Şu genç turkcell reklamları da kendini özendir...</td>\n",
       "      <td>olumlu</td>\n",
       "    </tr>\n",
       "    <tr>\n",
       "      <th>2</th>\n",
       "      <td>vodafonetr aklıma tükürim geri size döndüğüme ...</td>\n",
       "      <td>olumlu</td>\n",
       "    </tr>\n",
       "    <tr>\n",
       "      <th>3</th>\n",
       "      <td>Turkcell Tv ye geçtiğimize pisman olduk bu aksam!</td>\n",
       "      <td>olumsuz</td>\n",
       "    </tr>\n",
       "    <tr>\n",
       "      <th>4</th>\n",
       "      <td>efsane reklam turkcell kim düşündüyse helal olsun</td>\n",
       "      <td>olumlu</td>\n",
       "    </tr>\n",
       "  </tbody>\n",
       "</table>\n",
       "</div>"
      ],
      "text/plain": [
       "                                                text category\n",
       "0  @KonyasporYorum onlara verilecegini zannetmiyo...  olumsuz\n",
       "1  Şu genç turkcell reklamları da kendini özendir...   olumlu\n",
       "2  vodafonetr aklıma tükürim geri size döndüğüme ...   olumlu\n",
       "3  Turkcell Tv ye geçtiğimize pisman olduk bu aksam!  olumsuz\n",
       "4  efsane reklam turkcell kim düşündüyse helal olsun   olumlu"
      ]
     },
     "execution_count": 7,
     "metadata": {},
     "output_type": "execute_result"
    }
   ],
   "source": [
    "train_dataset.head()"
   ]
  },
  {
   "cell_type": "code",
   "execution_count": 8,
   "metadata": {
    "scrolled": true
   },
   "outputs": [
    {
     "data": {
      "text/plain": [
       "128589"
      ]
     },
     "execution_count": 8,
     "metadata": {},
     "output_type": "execute_result"
    }
   ],
   "source": [
    "sum([len(word_tokenize(text)) for text in train_dataset.text]) # /len(train_dataset.text)"
   ]
  },
  {
   "cell_type": "code",
   "execution_count": 9,
   "metadata": {},
   "outputs": [
    {
     "name": "stdout",
     "output_type": "stream",
     "text": [
      "2021-02-12 00:47:30,560 - zemberek.morphology.turkish_morphology - INFO\n",
      "Msg: TurkishMorphology instance initialized in 8.883414030075073\n",
      "\n"
     ]
    }
   ],
   "source": [
    "from zemberek import (\n",
    "    TurkishSpellChecker,\n",
    "    TurkishSentenceNormalizer,\n",
    "    TurkishSentenceExtractor,\n",
    "    TurkishMorphology,\n",
    "    TurkishTokenizer\n",
    ")\n",
    "morphology = TurkishMorphology.create_with_defaults()\n",
    "normalizer = TurkishSentenceNormalizer(morphology)"
   ]
  },
  {
   "cell_type": "code",
   "execution_count": 10,
   "metadata": {},
   "outputs": [
    {
     "name": "stdout",
     "output_type": "stream",
     "text": [
      "yarın \n",
      "\n"
     ]
    }
   ],
   "source": [
    "examples = [\"yrn\"]\n",
    "# SENTENCE NORMALIZATION\n",
    "\n",
    "for example in examples:\n",
    "    print(normalizer.normalize(example), \"\\n\")"
   ]
  },
  {
   "cell_type": "code",
   "execution_count": 11,
   "metadata": {},
   "outputs": [],
   "source": [
    "X_train = train_dataset.text\n",
    "X_test = test_dataset.text\n",
    "\n",
    "y_train = train_dataset.category\n",
    "y_test = test_dataset.category\n",
    "\n",
    "data = train_dataset.append(test_dataset, ignore_index=True)"
   ]
  },
  {
   "cell_type": "code",
   "execution_count": 12,
   "metadata": {},
   "outputs": [],
   "source": [
    "from nltk.corpus import stopwords\n",
    "import string\n",
    "from snowballstemmer import TurkishStemmer\n",
    "import zeyrek\n",
    "from tqdm import tqdm\n",
    "lemmatizer = zeyrek.MorphAnalyzer()\n",
    "ts=TurkishStemmer()\n",
    "\n",
    "def clean_text(data, stem=False, lemmatize=True, normalize=True):  \n",
    "    data = word_tokenize(data)\n",
    "    \n",
    "    remov = set(stopwords.words(\"turkish\"))\n",
    "   \n",
    "    result_words = []\n",
    "    for w in data:\n",
    "        temp = w.translate(str.maketrans(string.punctuation, ' '*len(string.punctuation))).split()\n",
    "        result_words.extend(t for t in temp)\n",
    "        \n",
    "    words = [word.lower() for word in result_words]\n",
    "    words = [w.strip() for w in words if '\\n' or '' != w]\n",
    "    words = [w for w in words if w not in remov]\n",
    "    words = [x for x in words if not any(c.isdigit() for c in x)]\n",
    "    words = [word for word in words if len(word) > 2]\n",
    "    words_dum = []\n",
    "    if normalize:\n",
    "        for w in words:\n",
    "            try:\n",
    "                words_dum.append(normalizer.normalize(w))\n",
    "            except:\n",
    "                words_dum.append(w)\n",
    "        words = words_dum\n",
    "        \n",
    "    words_dum = []\n",
    "    if lemmatize:\n",
    "        for w in words:\n",
    "            try:\n",
    "                words_dum.append(lemmatizer.lemmatize(w))\n",
    "            except:\n",
    "                words_dum.append(w)\n",
    "    if stem:\n",
    "        words = [ts.stemWord(w) for w in words]\n",
    "    return words"
   ]
  },
  {
   "cell_type": "code",
   "execution_count": null,
   "metadata": {
    "scrolled": true
   },
   "outputs": [],
   "source": [
    "stem = False\n",
    "lemmatize = True\n",
    "normalize = True\n",
    "texts = [' '.join(clean_text(text,stem, lemmatize, normalize)) for text in tqdm(data.text)]\n",
    "\n",
    "texts_train = [' '.join(clean_text(text,stem, lemmatize, normalize)) for text in tqdm(X_train)]\n",
    "texts_test = [' '.join(clean_text(text,stem, lemmatize, normalize)) for text in tqdm(X_test)]"
   ]
  },
  {
   "cell_type": "code",
   "execution_count": 14,
   "metadata": {},
   "outputs": [],
   "source": [
    "embed_num_dims = 300\n",
    "\n",
    "token_vocab_size = 5000\n",
    "\n",
    "max_seq_len = 50\n",
    "\n",
    "class_names = [key for key in topic_dict.keys()]\n",
    "\n",
    "num_classes = len(class_names)"
   ]
  },
  {
   "cell_type": "code",
   "execution_count": 15,
   "metadata": {},
   "outputs": [],
   "source": [
    "import tensorflow.keras as keras\n",
    "from tensorflow.keras.preprocessing.text import Tokenizer\n",
    "from tensorflow.keras.preprocessing.sequence import pad_sequences\n",
    "from tensorflow.keras.utils import to_categorical"
   ]
  },
  {
   "cell_type": "code",
   "execution_count": null,
   "metadata": {},
   "outputs": [],
   "source": [
    "tokenizer = Tokenizer(num_words=token_vocab_size)\n",
    "tokenizer.fit_on_texts(texts)\n",
    "\n",
    "sequence_train = tokenizer.texts_to_sequences(texts_train)\n",
    "sequence_test = tokenizer.texts_to_sequences(texts_test)\n",
    "\n",
    "index_of_words = tokenizer.word_index\n",
    "\n",
    "# unique words + reserved 0 index for padding\n",
    "vocab_size = len(index_of_words) + 1"
   ]
  },
  {
   "cell_type": "code",
   "execution_count": 17,
   "metadata": {},
   "outputs": [
    {
     "data": {
      "text/plain": [
       "array([[   0,    0,    0, ..., 1379,  227, 3992],\n",
       "       [   0,    0,    0, ..., 2694,   91,   53],\n",
       "       [   0,    0,    0, ...,  964, 1272,  313],\n",
       "       ...,\n",
       "       [   0,    0,    0, ...,  209, 4314,  156],\n",
       "       [   0,    0,    0, ...,  429,    3,  216],\n",
       "       [   0,    0,    0, ...,  125,    1, 3756]])"
      ]
     },
     "execution_count": 17,
     "metadata": {},
     "output_type": "execute_result"
    }
   ],
   "source": [
    "X_train_pad = pad_sequences(sequence_train, maxlen = max_seq_len, padding='pre', truncating='pre')\n",
    "X_test_pad = pad_sequences(sequence_test, maxlen = max_seq_len, padding='pre', truncating='pre')\n",
    "\n",
    "X_train_pad"
   ]
  },
  {
   "cell_type": "code",
   "execution_count": 18,
   "metadata": {},
   "outputs": [],
   "source": [
    "y_train = train_dataset.category\n",
    "y_test = test_dataset.category"
   ]
  },
  {
   "cell_type": "code",
   "execution_count": 19,
   "metadata": {},
   "outputs": [
    {
     "data": {
      "text/plain": [
       "array([0, 1, 1, ..., 1, 0, 1])"
      ]
     },
     "execution_count": 19,
     "metadata": {},
     "output_type": "execute_result"
    }
   ],
   "source": [
    "import numpy as np\n",
    "\n",
    "y_train = np.array(list(map(lambda x: 1 if x==\"olumlu\" else 0, y_train)))\n",
    "y_test = np.array(list(map(lambda x: 1 if x==\"olumlu\" else 0, y_test)))\n",
    "y_train"
   ]
  },
  {
   "cell_type": "code",
   "execution_count": 20,
   "metadata": {},
   "outputs": [
    {
     "name": "stdout",
     "output_type": "stream",
     "text": [
      "2021-02-12 01:34:39,112 - torchtext.vocab - INFO\n",
      "Msg: Loading vectors from .vector_cache\\wiki.tr.vec.pt\n",
      "\n"
     ]
    }
   ],
   "source": [
    "from torchtext.vocab import FastText\n",
    "\n",
    "my_vector = FastText('tr')"
   ]
  },
  {
   "cell_type": "code",
   "execution_count": 22,
   "metadata": {},
   "outputs": [],
   "source": [
    "def create_embedding_matrix(w2v_embeds, word_index, embedding_dim):\n",
    "    vocab_size = len(word_index) + 1  # Adding again 1 because of reserved 0 index\n",
    "    embedding_matrix = np.zeros((vocab_size, embedding_dim))\n",
    "    for word in word_index:\n",
    "        idx = word_index[word]\n",
    "        try:\n",
    "            embed = w2v_embeds[word]\n",
    "            embedding_matrix[idx] = np.array(\n",
    "                embed, dtype=np.float32)[:embedding_dim]\n",
    "        except:\n",
    "            print(word)\n",
    "    return embedding_matrix"
   ]
  },
  {
   "cell_type": "code",
   "execution_count": 23,
   "metadata": {
    "scrolled": true
   },
   "outputs": [
    {
     "data": {
      "text/plain": [
       "(22659, 300)"
      ]
     },
     "execution_count": 23,
     "metadata": {},
     "output_type": "execute_result"
    }
   ],
   "source": [
    "embedd_matrix = create_embedding_matrix(my_vector, index_of_words, embed_num_dims)\n",
    "embedd_matrix.shape"
   ]
  },
  {
   "cell_type": "code",
   "execution_count": 24,
   "metadata": {},
   "outputs": [
    {
     "data": {
      "text/plain": [
       "22658"
      ]
     },
     "execution_count": 24,
     "metadata": {},
     "output_type": "execute_result"
    }
   ],
   "source": [
    "len(index_of_words)"
   ]
  },
  {
   "cell_type": "code",
   "execution_count": null,
   "metadata": {},
   "outputs": [],
   "source": [
    "new_words = 0\n",
    "\n",
    "for word in index_of_words:\n",
    "    entry = embedd_matrix[index_of_words[word]]\n",
    "    if all(v == 0 for v in entry):\n",
    "        new_words = new_words + 1\n",
    "\n",
    "print('Words found in fasttext vocab: ' + str(len(index_of_words) - new_words))\n",
    "print('New words: ' + str(new_words))"
   ]
  },
  {
   "cell_type": "code",
   "execution_count": 26,
   "metadata": {},
   "outputs": [],
   "source": [
    "import pandas as pd\n",
    "import numpy as np\n",
    "\n",
    "# text preprocessing\n",
    "from nltk.tokenize import word_tokenize\n",
    "\n",
    "# plots and metrics\n",
    "import matplotlib.pyplot as plt\n",
    "from sklearn.metrics import accuracy_score, f1_score, confusion_matrix, average_precision_score, recall_score, precision_score\n",
    "\n",
    "# layers\n",
    "from tensorflow.keras.models import Sequential\n",
    "from tensorflow.keras.layers import Embedding, Conv1D, GlobalMaxPooling1D, Dense, MaxPooling1D\n",
    "from tensorflow.keras.layers import Dense, Flatten, LSTM, Dropout, Activation, Embedding, Bidirectional,SimpleRNN"
   ]
  },
  {
   "cell_type": "code",
   "execution_count": 63,
   "metadata": {},
   "outputs": [],
   "source": [
    "embed_layer = Embedding(vocab_size,\n",
    "                         embed_num_dims,\n",
    "                         input_length = max_seq_len,\n",
    "                         weights = [embedd_matrix],\n",
    "                         trainable=False)"
   ]
  },
  {
   "cell_type": "code",
   "execution_count": 65,
   "metadata": {},
   "outputs": [],
   "source": [
    "## Convolution\n",
    "\n",
    "# kernel_size = 5\n",
    "# filters = 256\n",
    "\n",
    "# model = Sequential()\n",
    "# model.add(embed_layer)\n",
    "# model.add(Dropout(0.5))\n",
    "# model.add(Conv1D(filters, kernel_size, activation='relu'))\n",
    "# model.add(GlobalMaxPooling1D())\n",
    "# model.add(Dense(filters, activation='relu'))\n",
    "# model.add(Dropout(0.5))\n",
    "# model.add(Dense(1, activation='sigmoid'))"
   ]
  },
  {
   "cell_type": "code",
   "execution_count": 46,
   "metadata": {},
   "outputs": [],
   "source": [
    "## BiLSTM\n",
    "\n",
    "# model = Sequential()\n",
    "\n",
    "# model.add(embed_layer)\n",
    "# model.add(Dropout(0.5))\n",
    "# model.add(Bidirectional(LSTM(embed_num_dims)))\n",
    "# # model.add(LSTM(embed_num_dims))\n",
    "# model.add(Dropout(0.5))\n",
    "# model.add(Dense(1, activation='sigmoid'))"
   ]
  },
  {
   "cell_type": "code",
   "execution_count": 47,
   "metadata": {},
   "outputs": [],
   "source": [
    "## LSTM\n",
    "# model = Sequential()\n",
    "\n",
    "# model.add(embed_layer)\n",
    "# model.add(Dropout(0.5))\n",
    "# # model.add(Bidirectional(LSTM(embed_num_dims)))\n",
    "# model.add(LSTM(embed_num_dims))\n",
    "# model.add(Dropout(0.5))\n",
    "# model.add(Dense(1, activation='sigmoid'))"
   ]
  },
  {
   "cell_type": "code",
   "execution_count": 48,
   "metadata": {},
   "outputs": [],
   "source": [
    "## SimpleRNN\n",
    "# model = Sequential()\n",
    "\n",
    "# model.add(embed_layer)\n",
    "# model.add(Dropout(0.3))\n",
    "# # model.add(Bidirectional(LSTM(embed_num_dims)))\n",
    "# model.add(SimpleRNN(embed_num_dims))\n",
    "# model.add(Dropout(0.5))\n",
    "# model.add(Dense(1, activation='sigmoid'))"
   ]
  },
  {
   "cell_type": "code",
   "execution_count": null,
   "metadata": {},
   "outputs": [],
   "source": [
    "opt =  keras.optimizers.Adam(lr=0.00005, decay=1e-6)\n",
    "model.compile(loss = 'binary_crossentropy', optimizer = opt, metrics = ['accuracy'])\n",
    "model.summary()"
   ]
  },
  {
   "cell_type": "code",
   "execution_count": 68,
   "metadata": {},
   "outputs": [],
   "source": [
    "# epochs = 50\n",
    "# hist = model.fit(X_train_pad, y_train,\n",
    "#                  epochs=epochs,\n",
    "#                  validation_data=(X_test_pad,y_test),verbose=1)"
   ]
  },
  {
   "cell_type": "code",
   "execution_count": null,
   "metadata": {
    "scrolled": true
   },
   "outputs": [],
   "source": [
    "batch_size = 128\n",
    "epochs = 100\n",
    "\n",
    "hist = model.fit(X_train_pad, y_train,\n",
    "                 batch_size=batch_size,\n",
    "                 epochs=epochs,\n",
    "                 validation_data=(X_test_pad,y_test),verbose=1)"
   ]
  },
  {
   "cell_type": "code",
   "execution_count": 51,
   "metadata": {},
   "outputs": [],
   "source": [
    "model1 = model"
   ]
  },
  {
   "cell_type": "code",
   "execution_count": 54,
   "metadata": {},
   "outputs": [
    {
     "data": {
      "image/png": "[encoded data removed]",
      "text/plain": [
       "<Figure size 432x288 with 1 Axes>"
      ]
     },
     "metadata": {
      "needs_background": "light"
     },
     "output_type": "display_data"
    },
    {
     "data": {
      "image/png": "[encoded data removed]",
      "text/plain": [
       "<Figure size 432x288 with 1 Axes>"
      ]
     },
     "metadata": {
      "needs_background": "light"
     },
     "output_type": "display_data"
    }
   ],
   "source": [
    "# Accuracy plot\n",
    "plt.plot(hist.history['accuracy'])\n",
    "plt.plot(hist.history['val_accuracy'])\n",
    "plt.title('model accuracy')\n",
    "plt.ylabel('accuracy')\n",
    "plt.xlabel('epoch')\n",
    "plt.legend(['train', 'validation'], loc='upper left')\n",
    "# plt.savefig('figures_2/SimpleRNN_acc.png')\n",
    "plt.show()\n",
    "\n",
    "# Loss plot\n",
    "plt.plot(hist.history['loss'])\n",
    "plt.plot(hist.history['val_loss'])\n",
    "plt.title('model loss')\n",
    "plt.ylabel('loss')\n",
    "plt.xlabel('epoch')\n",
    "plt.legend(['train', 'validation'], loc='upper left')\n",
    "# plt.savefig('figures_2/SimpleRNN_loss.png')\n",
    "plt.show()"
   ]
  },
  {
   "cell_type": "code",
   "execution_count": 131,
   "metadata": {},
   "outputs": [],
   "source": [
    "# from keras.models import load_model\n",
    "# predictor = load_model('models/cnn_w2v.h5')"
   ]
  },
  {
   "cell_type": "code",
   "execution_count": 55,
   "metadata": {
    "scrolled": true
   },
   "outputs": [
    {
     "data": {
      "text/plain": [
       "array([0., 0., 0., ..., 1., 0., 1.], dtype=float32)"
      ]
     },
     "execution_count": 55,
     "metadata": {},
     "output_type": "execute_result"
    }
   ],
   "source": [
    "predictions = model.predict(X_test_pad)\n",
    "predictions = np.squeeze(predictions)\n",
    "predictions = np.round(predictions)\n",
    "predictions"
   ]
  },
  {
   "cell_type": "code",
   "execution_count": 56,
   "metadata": {},
   "outputs": [],
   "source": [
    "predictions = [class_names[abs(1-int(pred))] for pred in predictions]"
   ]
  },
  {
   "cell_type": "code",
   "execution_count": 57,
   "metadata": {},
   "outputs": [
    {
     "name": "stdout",
     "output_type": "stream",
     "text": [
      "Accuracy: 76.24%\n",
      "F1 Score: 76.08\n",
      "Precision: 76.05%\n",
      "Recall: 76.24%\n"
     ]
    }
   ],
   "source": [
    "print(\"Accuracy: {:.2f}%\".format(accuracy_score(test_dataset.category, predictions) * 100))\n",
    "print(\"F1 Score: {:.2f}\".format(f1_score(test_dataset.category, predictions, average='weighted') * 100))\n",
    "print(\"Precision: {:.2f}%\".format(precision_score(test_dataset.category, predictions, average ='weighted') * 100))\n",
    "print(\"Recall: {:.2f}%\".format(recall_score(test_dataset.category, predictions, average ='weighted') * 100))"
   ]
  },
  {
   "cell_type": "code",
   "execution_count": 82,
   "metadata": {},
   "outputs": [
    {
     "name": "stdout",
     "output_type": "stream",
     "text": [
      "[[]]\n",
      "['olumsuz', 'olumlu']\n",
      "0.45252436\n",
      "olumsuz\n"
     ]
    }
   ],
   "source": [
    "# Testing model\n",
    "text = \"\"\"\"\"\"\n",
    "text = clean_text(text,stem=False)\n",
    "txt = [text]\n",
    "print(txt)\n",
    "seq = tokenizer.texts_to_sequences(txt)\n",
    "padded = pad_sequences(seq, maxlen=max_seq_len)\n",
    "pred = model.predict(padded)\n",
    "pred = np.squeeze(pred)\n",
    "labels = ['olumsuz','olumlu'] \n",
    "print(labels)\n",
    "print(pred)\n",
    "# print(np.argmax(pred))\n",
    "print(labels[int(np.round(pred))])"
   ]
  },
  {
   "cell_type": "code",
   "execution_count": 59,
   "metadata": {},
   "outputs": [],
   "source": [
    "def plot_confusion_matrix(y_true, y_pred, classes,\n",
    "                          title,\n",
    "                          cmap=plt.cm.Blues):\n",
    "\n",
    "    cm = confusion_matrix(y_true, y_pred)\n",
    "\n",
    "    fig, ax = plt.subplots()\n",
    "\n",
    "    fig.set_size_inches(12.5, 7.5)\n",
    "    im = ax.imshow(cm, interpolation='nearest', cmap=cmap)\n",
    "    ax.figure.colorbar(im, ax=ax)\n",
    "    ax.grid(False)\n",
    "    \n",
    "    ax.set(xticks=np.arange(cm.shape[1]),\n",
    "           yticks=np.arange(cm.shape[0]),\n",
    "           # ... and label them with the respective list entries\n",
    "           xticklabels=classes, yticklabels=classes,\n",
    "           title=title,\n",
    "           ylabel='True label',\n",
    "           xlabel='Predicted label')\n",
    "\n",
    "    plt.setp(ax.get_xticklabels(), rotation=45, ha=\"right\",\n",
    "             rotation_mode=\"anchor\")\n",
    "\n",
    "    fmt = '.2f' if normalize else 'd'\n",
    "    thresh = cm.max() / 2.\n",
    "    for i in range(cm.shape[0]):\n",
    "        for j in range(cm.shape[1]):\n",
    "            ax.text(j, i, format(cm[i, j], fmt),\n",
    "                    ha=\"center\", va=\"center\",\n",
    "                    color=\"white\" if cm[i, j] > thresh else \"black\")\n",
    "    fig.tight_layout()\n",
    "    return ax"
   ]
  },
  {
   "cell_type": "code",
   "execution_count": null,
   "metadata": {},
   "outputs": [],
   "source": [
    "plot_confusion_matrix(test_dataset.category, predictions, classes=class_names, title='Confusion matrix')\n",
    "# plt.savefig('figures_2/SimpleRNN_confusion.png')\n",
    "plt.show()"
   ]
  },
  {
   "cell_type": "code",
   "execution_count": 62,
   "metadata": {},
   "outputs": [],
   "source": [
    "# model.save('models_2/SimpleRNN.h5')"
   ]
  }
 ],
 "metadata": {
  "kernelspec": {
   "display_name": "Python 3",
   "language": "python",
   "name": "python3"
  },
  "language_info": {
   "codemirror_mode": {
    "name": "ipython",
    "version": 3
   },
   "file_extension": ".py",
   "mimetype": "text/x-python",
   "name": "python",
   "nbconvert_exporter": "python",
   "pygments_lexer": "ipython3",
   "version": "3.8.3"
  }
 },
 "nbformat": 4,
 "nbformat_minor": 4
}
